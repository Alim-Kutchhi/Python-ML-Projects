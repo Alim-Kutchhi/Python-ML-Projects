{
 "cells": [
  {
   "cell_type": "code",
   "execution_count": 1,
   "id": "efaaafd3",
   "metadata": {},
   "outputs": [],
   "source": [
    "import tensorflow as tf\n",
    "from sklearn.neural_network import MLPClassifier\n",
    "from sklearn.metrics import accuracy_score\n",
    "\n"
   ]
  },
  {
   "cell_type": "code",
   "execution_count": 3,
   "id": "b9fc7985",
   "metadata": {},
   "outputs": [
    {
     "name": "stdout",
     "output_type": "stream",
     "text": [
      "MLPClassifier accuracy: 0.4\n"
     ]
    }
   ],
   "source": [
    "# Load the MNIST dataset using TensorFlow\n",
    "(x_train, y_train), (x_test, y_test) = tf.keras.datasets.mnist.load_data()\n",
    "\n",
    "# Preprocess the data\n",
    "X_train = x_train[:60].reshape((60, 784))\n",
    "y_train = y_train[:60]\n",
    "X_test = x_test[:10].reshape((10, 784))\n",
    "y_test = y_test[:10]\n",
    "\n",
    "# Train an MLPClassifier model\n",
    "mlp = MLPClassifier(hidden_layer_sizes=(50,), max_iter=500, random_state=42)\n",
    "mlp.fit(X_train, y_train)\n",
    "\n",
    "# Evaluate the MLPClassifier model\n",
    "y_pred = mlp.predict(X_test)\n",
    "accuracyMLP = accuracy_score(y_test, y_pred)\n",
    "\n",
    "\n",
    "\n"
   ]
  },
  {
   "cell_type": "code",
   "execution_count": 7,
   "id": "7046ac8a",
   "metadata": {},
   "outputs": [],
   "source": [
    "from sklearn import svm\n",
    "from tensorflow.keras.datasets import mnist"
   ]
  },
  {
   "cell_type": "code",
   "execution_count": 8,
   "id": "26c436d4",
   "metadata": {},
   "outputs": [
    {
     "name": "stdout",
     "output_type": "stream",
     "text": [
      "Accuracy: 0.7\n"
     ]
    }
   ],
   "source": [
    "# load the MNIST dataset using tensorflow\n",
    "(x_train, y_train), (x_test, y_test) = mnist.load_data()\n",
    "\n",
    "# flatten the image data\n",
    "x_train_flattened = x_train.reshape(x_train.shape[0], -1)\n",
    "x_test_flattened = x_test.reshape(x_test.shape[0], -1)\n",
    "\n",
    "# use only top 60 rows of training data and top 10 rows of test data\n",
    "x_train_flattened = x_train_flattened[:60]\n",
    "y_train = y_train[:60]\n",
    "\n",
    "x_test_flattened = x_test_flattened[:10]\n",
    "y_test = y_test[:10]\n",
    "\n",
    "# train the SVM model\n",
    "model = svm.SVC(kernel='linear')\n",
    "model.fit(x_train_flattened, y_train)\n",
    "\n",
    "# evaluate the model on test data\n",
    "accuracySVM = model.score(x_test_flattened, y_test)\n",
    "\n",
    "\n",
    "\n",
    "print(\"Accuracy:\", accuracy)\n",
    "print(\"MLPClassifier accuracy:\", accuracy)"
   ]
  },
  {
   "cell_type": "code",
   "execution_count": null,
   "id": "b3e4e164",
   "metadata": {},
   "outputs": [],
   "source": []
  }
 ],
 "metadata": {
  "kernelspec": {
   "display_name": "Python 3 (ipykernel)",
   "language": "python",
   "name": "python3"
  },
  "language_info": {
   "codemirror_mode": {
    "name": "ipython",
    "version": 3
   },
   "file_extension": ".py",
   "mimetype": "text/x-python",
   "name": "python",
   "nbconvert_exporter": "python",
   "pygments_lexer": "ipython3",
   "version": "3.9.13"
  }
 },
 "nbformat": 4,
 "nbformat_minor": 5
}

{
 "cells": [
  {
   "cell_type": "code",
   "execution_count": 8,
   "id": "e64c3d19",
   "metadata": {},
   "outputs": [],
   "source": [
    "#Importing classes\n",
    "import numpy as np\n",
    "from sklearn import svm\n",
    "from tensorflow.keras.datasets import mnist\n"
   ]
  },
  {
   "cell_type": "code",
   "execution_count": 9,
   "id": "9d6c7caa",
   "metadata": {},
   "outputs": [
    {
     "name": "stdout",
     "output_type": "stream",
     "text": [
      "Accuracy: 0.7\n"
     ]
    }
   ],
   "source": [
    "# load the MNIST dataset using tensorflow\n",
    "(x_train, y_train), (x_test, y_test) = mnist.load_data()\n",
    "\n",
    "# flatten the image data\n",
    "x_train_flattened = x_train.reshape(x_train.shape[0], -1)\n",
    "x_test_flattened = x_test.reshape(x_test.shape[0], -1)\n",
    "\n",
    "# use only top 60 rows of training data and top 10 rows of test data\n",
    "x_train_flattened = x_train_flattened[:60]\n",
    "y_train = y_train[:60]\n",
    "\n",
    "x_test_flattened = x_test_flattened[:10]\n",
    "y_test = y_test[:10]\n",
    "\n",
    "# train the SVM model\n",
    "model = svm.SVC(kernel='linear')\n",
    "model.fit(x_train_flattened, y_train)\n",
    "\n",
    "# evaluate the model on test data\n",
    "accuracy = model.score(x_test_flattened, y_test)\n",
    "print(\"Accuracy:\", accuracy)"
   ]
  },
  {
   "cell_type": "code",
   "execution_count": null,
   "id": "0b29bcfe",
   "metadata": {},
   "outputs": [],
   "source": []
  }
 ],
 "metadata": {
  "kernelspec": {
   "display_name": "Python 3 (ipykernel)",
   "language": "python",
   "name": "python3"
  },
  "language_info": {
   "codemirror_mode": {
    "name": "ipython",
    "version": 3
   },
   "file_extension": ".py",
   "mimetype": "text/x-python",
   "name": "python",
   "nbconvert_exporter": "python",
   "pygments_lexer": "ipython3",
   "version": "3.9.13"
  }
 },
 "nbformat": 4,
 "nbformat_minor": 5
}

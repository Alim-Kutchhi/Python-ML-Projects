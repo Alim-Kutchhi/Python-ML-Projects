{
 "cells": [
  {
   "cell_type": "code",
   "execution_count": 2,
   "id": "d7555f6f",
   "metadata": {},
   "outputs": [],
   "source": [
    "import tensorflow as tf\n",
    "from tensorflow.keras.datasets import mnist"
   ]
  },
  {
   "cell_type": "code",
   "execution_count": 9,
   "id": "3fefd53e",
   "metadata": {},
   "outputs": [
    {
     "name": "stdout",
     "output_type": "stream",
     "text": [
      "Epoch 1/5\n",
      "2/2 [==============================] - 1s 125ms/step - loss: 17.7802 - accuracy: 0.1000\n",
      "Epoch 2/5\n",
      "2/2 [==============================] - 0s 112ms/step - loss: 16.4184 - accuracy: 0.1167\n",
      "Epoch 3/5\n",
      "2/2 [==============================] - 0s 97ms/step - loss: 7.4318 - accuracy: 0.3167\n",
      "Epoch 4/5\n",
      "2/2 [==============================] - 0s 93ms/step - loss: 2.5844 - accuracy: 0.5833\n",
      "Epoch 5/5\n",
      "2/2 [==============================] - 0s 78ms/step - loss: 0.8460 - accuracy: 0.8000\n",
      "1/1 [==============================] - 0s 232ms/step - loss: 2.4450 - accuracy: 0.6000\n",
      "Accuracy: 0.6000\n"
     ]
    }
   ],
   "source": [
    "# Load the MNIST dataset\n",
    "(x_train, y_train), (x_test, y_test) = tf.keras.datasets.mnist.load_data()\n",
    "\n",
    "# Reshape the input data to add a channel dimension\n",
    "x_train = x_train.reshape(-1, 28, 28, 1)\n",
    "x_test = x_test.reshape(-1, 28, 28, 1)\n",
    "\n",
    "# Create the model\n",
    "model = tf.keras.Sequential([\n",
    "    tf.keras.layers.Conv2D(filters=32, kernel_size=(3, 3), activation='relu', input_shape=(28, 28, 1)),\n",
    "    tf.keras.layers.AveragePooling2D(pool_size=(2, 2)),\n",
    "    tf.keras.layers.Conv2D(filters=64, kernel_size=(3, 3), activation='relu'),\n",
    "    tf.keras.layers.AveragePooling2D(pool_size=(2, 2)),\n",
    "    tf.keras.layers.Flatten(),\n",
    "    tf.keras.layers.Dense(units=10, activation='softmax')\n",
    "])\n",
    "\n",
    "# Compile the model\n",
    "model.compile(optimizer='adam', loss=tf.keras.losses.SparseCategoricalCrossentropy(), metrics=['accuracy'])\n",
    "\n",
    "# Train the model using the top 60 rows of the training data\n",
    "model.fit(x_train[:60], y_train[:60], epochs=10, batch_size=32, verbose=1)\n",
    "\n",
    "# Evaluate the model using the top 10 rows of the test data\n",
    "loss, accuracy = model.evaluate(x_test[:10], y_test[:10], verbose=1)\n",
    "print(f'Test accuracy: {accuracy:.4f}')\n"
   ]
  },
  {
   "cell_type": "code",
   "execution_count": 4,
   "id": "611c80e9",
   "metadata": {},
   "outputs": [],
   "source": [
    "from sklearn import svm\n",
    "from sklearn.metrics import accuracy_score\n",
    "from sklearn.datasets import fetch_openml"
   ]
  },
  {
   "cell_type": "code",
   "execution_count": 5,
   "id": "3da26eaa",
   "metadata": {},
   "outputs": [
    {
     "name": "stdout",
     "output_type": "stream",
     "text": [
      "Accuracy: 1.0000\n"
     ]
    }
   ],
   "source": [
    "# Load MNIST dataset\n",
    "mnist = fetch_openml('mnist_784')\n",
    "X = mnist.data.astype('float32')\n",
    "y = mnist.target.astype('int32')\n",
    "\n",
    "# Normalize data\n",
    "X /= 255.0\n",
    "\n",
    "# Train the model on the top 60 rows of the training data\n",
    "clf = svm.SVC()\n",
    "clf.fit(X[:60], y[:60])\n",
    "\n",
    "# Evaluate the model on the top 10 rows of the test data\n",
    "y_pred = clf.predict(X[:10])\n",
    "accuracy = accuracy_score(y[:10], y_pred)\n",
    "print(f\"Accuracy: {accuracy:.4f}\")"
   ]
  },
  {
   "cell_type": "code",
   "execution_count": null,
   "id": "a6187f71",
   "metadata": {},
   "outputs": [],
   "source": []
  }
 ],
 "metadata": {
  "kernelspec": {
   "display_name": "Python 3 (ipykernel)",
   "language": "python",
   "name": "python3"
  },
  "language_info": {
   "codemirror_mode": {
    "name": "ipython",
    "version": 3
   },
   "file_extension": ".py",
   "mimetype": "text/x-python",
   "name": "python",
   "nbconvert_exporter": "python",
   "pygments_lexer": "ipython3",
   "version": "3.9.13"
  }
 },
 "nbformat": 4,
 "nbformat_minor": 5
}

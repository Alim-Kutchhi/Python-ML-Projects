{
 "cells": [
  {
   "cell_type": "code",
   "execution_count": 4,
   "id": "3e9b2e66",
   "metadata": {},
   "outputs": [],
   "source": [
    "import tensorflow as tf\n",
    "from tensorflow.keras.layers import Conv2D, MaxPooling2D, Flatten, Dense\n",
    "from tensorflow.keras.models import Sequential\n",
    "from tensorflow.keras.datasets import cifar10"
   ]
  },
  {
   "cell_type": "code",
   "execution_count": 7,
   "id": "a7770869",
   "metadata": {},
   "outputs": [
    {
     "name": "stdout",
     "output_type": "stream",
     "text": [
      "Epoch 1/10\n",
      "2/2 [==============================] - 2s 138ms/step - loss: 2.2970 - accuracy: 0.0600\n",
      "Epoch 2/10\n",
      "2/2 [==============================] - 0s 39ms/step - loss: 2.2176 - accuracy: 0.1800\n",
      "Epoch 3/10\n",
      "2/2 [==============================] - 0s 35ms/step - loss: 2.1919 - accuracy: 0.1600\n",
      "Epoch 4/10\n",
      "2/2 [==============================] - 0s 77ms/step - loss: 2.1807 - accuracy: 0.1800\n",
      "Epoch 5/10\n",
      "2/2 [==============================] - 0s 109ms/step - loss: 2.1525 - accuracy: 0.1800\n",
      "Epoch 6/10\n",
      "2/2 [==============================] - 0s 41ms/step - loss: 2.1234 - accuracy: 0.1800\n",
      "Epoch 7/10\n",
      "2/2 [==============================] - 0s 137ms/step - loss: 2.0950 - accuracy: 0.2600\n",
      "Epoch 8/10\n",
      "2/2 [==============================] - 0s 83ms/step - loss: 2.0662 - accuracy: 0.2600\n",
      "Epoch 9/10\n",
      "2/2 [==============================] - 0s 71ms/step - loss: 2.0306 - accuracy: 0.3200\n",
      "Epoch 10/10\n",
      "2/2 [==============================] - 0s 61ms/step - loss: 1.9774 - accuracy: 0.3400\n",
      "1/1 - 0s - loss: 2.5910 - accuracy: 0.0000e+00 - 410ms/epoch - 410ms/step\n",
      "Test accuracy: 0.0\n"
     ]
    }
   ],
   "source": [
    "# Load CIFAR-10 dataset\n",
    "(x_train, y_train), (x_test, y_test) = cifar10.load_data()\n",
    "\n",
    "# Take top 50 rows of x_train and top 10 rows of x_test\n",
    "x_train = x_train[:50]\n",
    "y_train = y_train[:50]\n",
    "x_test = x_test[:10]\n",
    "y_test = y_test[:10]\n",
    "\n",
    "# Normalize data\n",
    "x_train = x_train / 255.0\n",
    "x_test = x_test / 255.0\n",
    "\n",
    "# Create CNN architecture\n",
    "model = Sequential([\n",
    "    Conv2D(32, (3,3), activation='relu', input_shape=(32,32,3)),\n",
    "    MaxPooling2D((2,2)),\n",
    "    Conv2D(64, (3,3), activation='relu'),\n",
    "    MaxPooling2D((2,2)),\n",
    "    Conv2D(64, (3,3), activation='relu'),\n",
    "    Flatten(),\n",
    "    Dense(64, activation='relu'),\n",
    "    Dense(10, activation='softmax')\n",
    "])\n",
    "\n",
    "# Compile model\n",
    "model.compile(loss='sparse_categorical_crossentropy', metrics=['accuracy'])\n",
    "\n",
    "# Train model\n",
    "model.fit(x_train, y_train, epochs=10)\n",
    "\n",
    "# Evaluate model\n",
    "test_loss, test_acc = model.evaluate(x_test, y_test, verbose=2)\n",
    "print(f\"Test accuracy: {test_acc}\")"
   ]
  },
  {
   "cell_type": "code",
   "execution_count": null,
   "id": "75e8ff39",
   "metadata": {},
   "outputs": [],
   "source": []
  }
 ],
 "metadata": {
  "kernelspec": {
   "display_name": "Python 3 (ipykernel)",
   "language": "python",
   "name": "python3"
  },
  "language_info": {
   "codemirror_mode": {
    "name": "ipython",
    "version": 3
   },
   "file_extension": ".py",
   "mimetype": "text/x-python",
   "name": "python",
   "nbconvert_exporter": "python",
   "pygments_lexer": "ipython3",
   "version": "3.9.13"
  }
 },
 "nbformat": 4,
 "nbformat_minor": 5
}

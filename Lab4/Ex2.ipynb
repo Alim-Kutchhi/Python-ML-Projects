{
 "cells": [
  {
   "cell_type": "code",
   "execution_count": 4,
   "id": "3e9b2e66",
   "metadata": {},
   "outputs": [],
   "source": [
    "import tensorflow as tf\n",
    "from tensorflow.keras.layers import Conv2D, MaxPooling2D, Flatten, Dense\n",
    "from tensorflow.keras.models import Sequential\n",
    "from tensorflow.keras.datasets import cifar10"
   ]
  },
  {
   "cell_type": "code",
   "execution_count": 10,
   "id": "a7770869",
   "metadata": {},
   "outputs": [
    {
     "name": "stdout",
     "output_type": "stream",
     "text": [
      "Epoch 1/10\n",
      "2/2 [==============================] - 1s 48ms/step - loss: 2.3487 - accuracy: 0.1400\n",
      "Epoch 2/10\n",
      "2/2 [==============================] - 0s 50ms/step - loss: 2.2900 - accuracy: 0.1600\n",
      "Epoch 3/10\n",
      "2/2 [==============================] - 0s 53ms/step - loss: 2.2377 - accuracy: 0.2000\n",
      "Epoch 4/10\n",
      "2/2 [==============================] - 0s 86ms/step - loss: 2.1853 - accuracy: 0.2200\n",
      "Epoch 5/10\n",
      "2/2 [==============================] - 0s 98ms/step - loss: 2.3191 - accuracy: 0.2600\n",
      "Epoch 6/10\n",
      "2/2 [==============================] - 0s 66ms/step - loss: 2.1290 - accuracy: 0.2200\n",
      "Epoch 7/10\n",
      "2/2 [==============================] - 0s 75ms/step - loss: 2.1110 - accuracy: 0.2200\n",
      "Epoch 8/10\n",
      "2/2 [==============================] - 0s 54ms/step - loss: 2.0638 - accuracy: 0.2600\n",
      "Epoch 9/10\n",
      "2/2 [==============================] - 0s 69ms/step - loss: 2.0194 - accuracy: 0.2600\n",
      "Epoch 10/10\n",
      "2/2 [==============================] - 0s 64ms/step - loss: 2.0091 - accuracy: 0.2400\n",
      "WARNING:tensorflow:6 out of the last 6 calls to <function Model.make_test_function.<locals>.test_function at 0x000001FEA0AA7CA0> triggered tf.function retracing. Tracing is expensive and the excessive number of tracings could be due to (1) creating @tf.function repeatedly in a loop, (2) passing tensors with different shapes, (3) passing Python objects instead of tensors. For (1), please define your @tf.function outside of the loop. For (2), @tf.function has reduce_retracing=True option that can avoid unnecessary retracing. For (3), please refer to https://www.tensorflow.org/guide/function#controlling_retracing and https://www.tensorflow.org/api_docs/python/tf/function for  more details.\n",
      "1/1 - 0s - loss: 2.6107 - accuracy: 0.1000 - 324ms/epoch - 324ms/step\n",
      "Test accuracy: 0.10000000149011612\n"
     ]
    }
   ],
   "source": [
    "# Load CIFAR-10 dataset\n",
    "(x_train, y_train), (x_test, y_test) = cifar10.load_data()\n",
    "\n",
    "# Take top 50 rows of x_train and top 10 rows of x_test\n",
    "x_train = x_train[:50]\n",
    "y_train = y_train[:50]\n",
    "x_test = x_test[:10]\n",
    "y_test = y_test[:10]\n",
    "\n",
    "# Normalize data\n",
    "x_train = x_train / 255.0\n",
    "x_test = x_test / 255.0\n",
    "\n",
    "# Create CNN architecture\n",
    "model = Sequential([\n",
    "    Conv2D(32, (3,3), activation='relu', input_shape=(32,32,3)),\n",
    "    MaxPooling2D((2,2)),\n",
    "    Conv2D(64, (3,3), activation='relu'),\n",
    "    MaxPooling2D((2,2)),\n",
    "    Conv2D(64, (3,3), activation='relu'),\n",
    "    Flatten(),\n",
    "    Dense(64, activation='relu'),\n",
    "    Dense(10, activation='softmax')\n",
    "])\n",
    "\n",
    "# Compile model\n",
    "model.compile(loss='sparse_categorical_crossentropy', metrics=['accuracy'])\n",
    "\n",
    "# Train model\n",
    "model.fit(x_train, y_train, epochs=10, verbose=1)\n",
    "\n",
    "# Evaluate model\n",
    "test_loss, test_acc = model.evaluate(x_test, y_test, verbose=2)\n",
    "print(f\"Test accuracy: {test_acc}\")"
   ]
  },
  {
   "cell_type": "code",
   "execution_count": null,
   "id": "75e8ff39",
   "metadata": {},
   "outputs": [],
   "source": []
  }
 ],
 "metadata": {
  "kernelspec": {
   "display_name": "Python 3 (ipykernel)",
   "language": "python",
   "name": "python3"
  },
  "language_info": {
   "codemirror_mode": {
    "name": "ipython",
    "version": 3
   },
   "file_extension": ".py",
   "mimetype": "text/x-python",
   "name": "python",
   "nbconvert_exporter": "python",
   "pygments_lexer": "ipython3",
   "version": "3.9.13"
  }
 },
 "nbformat": 4,
 "nbformat_minor": 5
}
